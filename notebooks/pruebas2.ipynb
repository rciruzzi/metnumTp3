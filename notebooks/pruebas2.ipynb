{
 "cells": [
  {
   "cell_type": "code",
   "execution_count": 1,
   "metadata": {},
   "outputs": [],
   "source": [
    "import pandas as pd\n",
    "import metnum\n",
    "import numpy as np\n",
    "from utils import *\n",
    "import seaborn as sns\n",
    "import sklearn\n",
    "import matplotlib.pyplot as plt\n",
    "from utils import graficarPropXPrecio, cmlConKFold, cml\n",
    "\n",
    "df = pd.read_csv('../data/train.csv')"
   ]
  },
  {
   "cell_type": "markdown",
   "metadata": {},
   "source": [
    "# Entrando en contacto con el dataset\n"
   ]
  },
  {
   "cell_type": "code",
   "execution_count": 2,
   "metadata": {},
   "outputs": [
    {
     "name": "stdout",
     "output_type": "stream",
     "text": [
      "<class 'pandas.core.frame.DataFrame'>\n",
      "RangeIndex: 240000 entries, 0 to 239999\n",
      "Data columns (total 23 columns):\n",
      " #   Column                      Non-Null Count   Dtype  \n",
      "---  ------                      --------------   -----  \n",
      " 0   id                          240000 non-null  int64  \n",
      " 1   titulo                      234613 non-null  object \n",
      " 2   descripcion                 238381 non-null  object \n",
      " 3   tipodepropiedad             239954 non-null  object \n",
      " 4   direccion                   186928 non-null  object \n",
      " 5   ciudad                      239628 non-null  object \n",
      " 6   provincia                   239845 non-null  object \n",
      " 7   antiguedad                  196445 non-null  float64\n",
      " 8   habitaciones                217529 non-null  float64\n",
      " 9   garages                     202235 non-null  float64\n",
      " 10  banos                       213779 non-null  float64\n",
      " 11  metroscubiertos             222600 non-null  float64\n",
      " 12  metrostotales               188533 non-null  float64\n",
      " 13  idzona                      211379 non-null  float64\n",
      " 14  lat                         116512 non-null  float64\n",
      " 15  lng                         116512 non-null  float64\n",
      " 16  fecha                       240000 non-null  object \n",
      " 17  gimnasio                    240000 non-null  float64\n",
      " 18  usosmultiples               240000 non-null  float64\n",
      " 19  piscina                     240000 non-null  float64\n",
      " 20  escuelascercanas            240000 non-null  float64\n",
      " 21  centroscomercialescercanos  240000 non-null  float64\n",
      " 22  precio                      240000 non-null  float64\n",
      "dtypes: float64(15), int64(1), object(7)\n",
      "memory usage: 42.1+ MB\n"
     ]
    }
   ],
   "source": [
    "df.info()"
   ]
  },
  {
   "cell_type": "code",
   "execution_count": 3,
   "metadata": {
    "hide_input": true
   },
   "outputs": [
    {
     "data": {
      "text/plain": [
       "Distrito Federal         58790\n",
       "Edo. de México           41607\n",
       "Jalisco                  21238\n",
       "Querétaro                16988\n",
       "Nuevo León               15324\n",
       "Puebla                   10421\n",
       "San luis Potosí           8447\n",
       "Yucatán                   7928\n",
       "Morelos                   7337\n",
       "Veracruz                  5762\n",
       "Quintana Roo              4756\n",
       "Chihuahua                 4590\n",
       "Coahuila                  3695\n",
       "Baja California Norte     3220\n",
       "Sonora                    2988\n",
       "Guanajuato                2860\n",
       "Guerrero                  2678\n",
       "Hidalgo                   2521\n",
       "Michoacán                 2471\n",
       "Tamaulipas                2303\n",
       "Durango                   2275\n",
       "Sinaloa                   1806\n",
       "Aguascalientes            1753\n",
       "Baja California Sur       1700\n",
       "Nayarit                   1352\n",
       "Chiapas                   1126\n",
       "Colima                    1008\n",
       "Tabasco                    994\n",
       "Tlaxcala                   839\n",
       "Oaxaca                     711\n",
       "Campeche                   263\n",
       "Zacatecas                   94\n",
       "Name: provincia, dtype: int64"
      ]
     },
     "execution_count": 3,
     "metadata": {},
     "output_type": "execute_result"
    }
   ],
   "source": [
    "df['provincia'].value_counts()"
   ]
  },
  {
   "cell_type": "code",
   "execution_count": 4,
   "metadata": {},
   "outputs": [],
   "source": [
    "\n",
    "\n",
    "df_df = df[df['provincia']=='Distrito Federal']\n",
    "df_emex = df[df['provincia']=='Edo. de México']\n",
    "df_jal = df[df['provincia']=='Jalisco']\n",
    "df_nuli = df[df['provincia']=='Nuevo León']\n",
    "df_yuca = df[df['provincia']=='Yucatán']\n",
    "df_chi = df[df['provincia']=='Chihuahua']\n",
    "df_sin = df[df['provincia']=='Sinaloa']\n",
    "df_col = df[df['provincia']=='Colima']\n",
    "\n",
    "# df_df = df[df['provincia']=='Distrito Federal'].fillna(0)\n",
    "# df_emex = df[df['provincia']=='Edo. de México'].fillna(0)\n",
    "# df_jal = df[df['provincia']=='Jalisco'].fillna(0)\n",
    "# dfj = df_df.groupby('antiguedad')[['precio']].mean() \n",
    "# dfj['size'] = df_df.groupby('antiguedad')[['precio']].size()\n",
    "# print(dfj)\n"
   ]
  },
  {
   "cell_type": "markdown",
   "metadata": {},
   "source": [
    "### IDEAS FALLIDAS PARA DESAPARECER CELDAS DE ANTEMANO"
   ]
  },
  {
   "cell_type": "markdown",
   "metadata": {},
   "source": [
    "#### Funcion que desaparece todo de antemano"
   ]
  },
  {
   "cell_type": "code",
   "execution_count": 5,
   "metadata": {},
   "outputs": [],
   "source": [
    "# from IPython.display import HTML\n",
    "# HTML('''<script>\n",
    "# code_show=true; \n",
    "# function code_toggle() {\n",
    "#  if (code_show){\n",
    "#  $('div.input').hide();\n",
    "#  } else {\n",
    "#  $('div.input').show();\n",
    "#  }\n",
    "#  code_show = !code_show\n",
    "# } \n",
    "# $( document ).ready(code_toggle);\n",
    "# </script>\n",
    "# The raw code for this IPython notebook is by default hidden for easier reading.\n",
    "# To toggle on/off the raw code, click <a href=\"javascript:code_toggle()\">here</a>.''')"
   ]
  },
  {
   "cell_type": "markdown",
   "metadata": {},
   "source": [
    "#### Funcion que te desaparece una sola celda pero no de antemano y con un botón medio feo"
   ]
  },
  {
   "cell_type": "code",
   "execution_count": 6,
   "metadata": {},
   "outputs": [],
   "source": [
    "# from IPython.core.display import display,HTML\n",
    "# toggle_code_str = '''\n",
    "# <form action=\"javascript:code_toggle()\"><input type=\"submit\" id=\"toggleButton\" value=\"Show Sloution\"></form>\n",
    "# '''\n",
    "\n",
    "# toggle_code_prepare_str = '''\n",
    "#     <script>\n",
    "#     function code_toggle() {\n",
    "#         if ($('div.cell.code_cell.rendered.selected div.input').css('display')!='none'){\n",
    "#             $('div.cell.code_cell.rendered.selected div.input').hide();\n",
    "#         } else {\n",
    "#             $('div.cell.code_cell.rendered.selected div.input').show();\n",
    "#         }\n",
    "#     }\n",
    "#     </script>\n",
    "\n",
    "# '''\n",
    "\n",
    "# display(HTML(toggle_code_prepare_str + toggle_code_str))\n",
    "\n",
    "# def toggle_code():\n",
    "#     display(HTML(toggle_code_str))"
   ]
  },
  {
   "cell_type": "markdown",
   "metadata": {},
   "source": [
    "#### Funcion que desaparece cualquier celda que tenga el comentario # @hidden pero te deja el link para reaparecer la celda en cualquier lado."
   ]
  },
  {
   "cell_type": "code",
   "execution_count": 7,
   "metadata": {},
   "outputs": [],
   "source": [
    "# # @hidden\n",
    "# from IPython.display import HTML\n",
    "# HTML('''<script>\n",
    "# code_show=true; \n",
    "# function code_toggle() {\n",
    "#  if (code_show){\n",
    "#  $('.cm-comment:contains(@hidden)').closest('div.input').hide();\n",
    "#  } else {\n",
    "#  $('.cm-comment:contains(@hidden)').closest('div.input').show();\n",
    "#  }\n",
    "#  code_show = !code_show\n",
    "# } \n",
    "# $( document ).ready(code_toggle);\n",
    "# </script>\n",
    "# The raw code for this IPython notebook is by default hidden for easier reading.\n",
    "# To toggle on/off the raw code, click <a href=\"javascript:code_toggle()\">here</a>.''')"
   ]
  },
  {
   "cell_type": "code",
   "execution_count": 9,
   "metadata": {},
   "outputs": [
    {
     "data": {
      "text/html": [
       "\n",
       "        <script>\n",
       "            function code_toggle_7826346148262077728() {\n",
       "                $('div.cell.code_cell.rendered.selected').find('div.input').toggle();\n",
       "            }\n",
       "\n",
       "            \n",
       "        </script>\n",
       "\n",
       "        <a href=\"javascript:code_toggle_7826346148262077728()\">Mostrar/ocultar código de celda</a>\n",
       "    "
      ],
      "text/plain": [
       "<IPython.core.display.HTML object>"
      ]
     },
     "execution_count": 9,
     "metadata": {},
     "output_type": "execute_result"
    },
    {
     "data": {
      "image/png": "[encoded data removed]",
      "text/plain": [
       "<Figure size 1440x360 with 3 Axes>"
      ]
     },
     "metadata": {
      "needs_background": "light"
     },
     "output_type": "display_data"
    }
   ],
   "source": [
    "def dfs(prop):\n",
    "    return [df_df.dropna(subset=[prop]), df_emex.dropna(subset=[prop]), df_jal.dropna(subset=[prop])]\n",
    "nombres = [\"Distrito Federal\", \"Edo. de México\", \"Jalisco\"]\n",
    "graficarPropXPrecio('metroscubiertos', \"Metros cubiertos\", dfs('metroscubiertos'), nombres)\n",
    "\n",
    "oculta_celdas()"
   ]
  },
  {
   "cell_type": "code",
   "execution_count": 10,
   "metadata": {},
   "outputs": [
    {
     "data": {
      "image/png": "[encoded data removed]",
      "text/plain": [
       "<Figure size 1440x360 with 3 Axes>"
      ]
     },
     "metadata": {
      "needs_background": "light"
     },
     "output_type": "display_data"
    }
   ],
   "source": [
    "graficarPropXPrecio('metrostotales', \"Metros totales\", dfs('metrostotales'), nombres)"
   ]
  },
  {
   "cell_type": "markdown",
   "metadata": {},
   "source": [
    "## Analizando la relación de distintas variables con el precio del inmueble"
   ]
  },
  {
   "cell_type": "markdown",
   "metadata": {},
   "source": [
    "En esta sección nos dispondremos a estudiar variables que creemos que podrian ser un factor determinante a la hora de estimar el precio de un inmueble. Segmentaremos los datos por provincia y trabajaremos con aquellas provincias de las que tenemos más información, que son *Distrito Federal*, *Edo. de México* y *Jalisco*."
   ]
  },
  {
   "cell_type": "markdown",
   "metadata": {},
   "source": [
    "* Relación piscina-precio"
   ]
  },
  {
   "cell_type": "code",
   "execution_count": 52,
   "metadata": {},
   "outputs": [
    {
     "name": "stdout",
     "output_type": "stream",
     "text": [
      "\u001b[4mDistrito Federal\u001b[0m\n",
      "         precioPromedio  #deMuestras\n",
      "piscina                             \n",
      "0.0        3.384644e+06        56163\n",
      "1.0        5.333006e+06         2627\n",
      "\n",
      "\n",
      "\u001b[4mEdo. de México\u001b[0m\n",
      "         precioPromedio  #deMuestras\n",
      "piscina                             \n",
      "0.0        2.646763e+06        39277\n",
      "1.0        4.712864e+06         2330\n",
      "\n",
      "\n",
      "\u001b[4mJalisco\u001b[0m\n",
      "         precioPromedio  #deMuestras\n",
      "piscina                             \n",
      "0.0        2.247232e+06        18756\n",
      "1.0        3.277998e+06         2482\n",
      "\n",
      "\n",
      "\n",
      "Aumento promedio de precioPromedio:  1681743.0\n"
     ]
    },
    {
     "data": {
      "text/html": [
       "\n",
       "        <script>\n",
       "            function code_toggle_10952588742131642402() {\n",
       "                $('div.cell.code_cell.rendered.selected').find('div.input').toggle();\n",
       "            }\n",
       "\n",
       "            \n",
       "        </script>\n",
       "\n",
       "        <a href=\"javascript:code_toggle_10952588742131642402()\">Mostrar/ocultar código de celda</a>\n",
       "    "
      ],
      "text/plain": [
       "<IPython.core.display.HTML object>"
      ]
     },
     "execution_count": 52,
     "metadata": {},
     "output_type": "execute_result"
    }
   ],
   "source": [
    "DF = df_df.rename(columns={'precio':'precioPromedio'}).groupby('piscina')[['precioPromedio']].mean()\n",
    "DF['#deMuestras'] = df_df.groupby('piscina')[['precio']].size()\n",
    "EM = df_emex.rename(columns={'precio':'precioPromedio'}).groupby('piscina')[['precioPromedio']].mean()\n",
    "EM['#deMuestras'] = df_emex.groupby('piscina')[['precio']].size()\n",
    "JA = df_jal.rename(columns={'precio':'precioPromedio'}).groupby('piscina')[['precioPromedio']].mean()\n",
    "JA['#deMuestras'] = df_jal.groupby('piscina')[['precio']].size()\n",
    "\n",
    "print(\"\\033[4mDistrito Federal\\033[0m\")\n",
    "print(DF)\n",
    "print(\"\\n\")\n",
    "print(\"\\033[4mEdo. de México\\033[0m\")\n",
    "print(EM)\n",
    "print(\"\\n\")\n",
    "print(\"\\033[4mJalisco\\033[0m\")\n",
    "print(JA)\n",
    "o = 3.277998e+06 - 2.247232e+06\n",
    "d = 4.712864e+06 - 2.646763e+06\n",
    "e = 5.333006e+06 - 3.384644e+06\n",
    "print(\"\\n\\n\")\n",
    "print(\"Aumento promedio de precioPromedio: \",(o + d + e)/3)\n",
    "\n",
    "oculta_celdas()"
   ]
  },
  {
   "cell_type": "markdown",
   "metadata": {},
   "source": [
    "Evidentemente en todas las provincias el hecho de que el inmueble tenga piscina es determinante a la hora de definir su precio. Reflejandose la presencia de piscina en un aumento promedio del precio del inmueble de aproximadamente un millón y medio de pesos. Sin embargo, es importante notar la gran diferencia en tamaño de datos que existe entre los inmuebles con piscina y los que no. Estos últimos representando como máximo un 11.7% (en Jalisco) de los inmuebles totales.  "
   ]
  },
  {
   "cell_type": "markdown",
   "metadata": {},
   "source": [
    "* Relación gimnasio-precio"
   ]
  },
  {
   "cell_type": "code",
   "execution_count": 53,
   "metadata": {},
   "outputs": [
    {
     "name": "stdout",
     "output_type": "stream",
     "text": [
      "\u001b[4mDistrito Federal\u001b[0m\n",
      "          precioPromedio  #deMuestras\n",
      "gimnasio                             \n",
      "0.0         3.371224e+06        54380\n",
      "1.0         4.710750e+06         4410\n",
      "\n",
      "\n",
      "\u001b[4mEdo. de México\u001b[0m\n",
      "          precioPromedio  #deMuestras\n",
      "gimnasio                             \n",
      "0.0         2.637067e+06        38541\n",
      "1.0         4.338775e+06         3066\n",
      "\n",
      "\n",
      "\u001b[4mJalisco\u001b[0m\n",
      "          precioPromedio  #deMuestras\n",
      "gimnasio                             \n",
      "0.0         2.268564e+06        19894\n",
      "1.0         3.835011e+06         1344\n",
      "\n",
      "\n",
      "\n",
      "Aumento promedio de precioPromedio:  1535893.6666666667\n"
     ]
    },
    {
     "data": {
      "text/html": [
       "\n",
       "        <script>\n",
       "            function code_toggle_3601261961280058902() {\n",
       "                $('div.cell.code_cell.rendered.selected').find('div.input').toggle();\n",
       "            }\n",
       "\n",
       "            \n",
       "        </script>\n",
       "\n",
       "        <a href=\"javascript:code_toggle_3601261961280058902()\">Mostrar/ocultar código de celda</a>\n",
       "    "
      ],
      "text/plain": [
       "<IPython.core.display.HTML object>"
      ]
     },
     "execution_count": 53,
     "metadata": {},
     "output_type": "execute_result"
    }
   ],
   "source": [
    "DF = df_df.rename(columns={'precio':'precioPromedio'}).groupby('gimnasio')[['precioPromedio']].mean()\n",
    "DF['#deMuestras'] = df_df.groupby('gimnasio')[['precio']].size()\n",
    "EM = df_emex.rename(columns={'precio':'precioPromedio'}).groupby('gimnasio')[['precioPromedio']].mean()\n",
    "EM['#deMuestras'] = df_emex.groupby('gimnasio')[['precio']].size()\n",
    "JA = df_jal.rename(columns={'precio':'precioPromedio'}).groupby('gimnasio')[['precioPromedio']].mean()\n",
    "JA['#deMuestras'] = df_jal.groupby('gimnasio')[['precio']].size()\n",
    "print(\"\\033[4mDistrito Federal\\033[0m\")\n",
    "print(DF)\n",
    "print(\"\\n\")\n",
    "print(\"\\033[4mEdo. de México\\033[0m\")\n",
    "print(EM)\n",
    "print(\"\\n\")\n",
    "print(\"\\033[4mJalisco\\033[0m\")\n",
    "print(JA)\n",
    "print(\"\\n\\n\")\n",
    "o = 3.835011e+06 - 2.268564e+06\n",
    "d = 4.338775e+06 - 2.637067e+06\n",
    "e = 4.710750e+06 - 3.371224e+06\n",
    "print(\"Aumento promedio de precioPromedio: \",(o + d + e)/3)\n",
    "\n",
    "oculta_celdas()"
   ]
  },
  {
   "cell_type": "markdown",
   "metadata": {},
   "source": [
    "Para el caso de los gimnasios también es claro que condicionan fuertemente el precio del inmueble, rondando el aumento promedio del precio masomenos al mismo nivel que las piscinas. Pero nuevamente hay que tener en consideración que la cantidad de datos que tenemos de inmuebles con gimnasio es muchisimo menor que la de inmuebles sin el mismo."
   ]
  },
  {
   "cell_type": "markdown",
   "metadata": {},
   "source": [
    "* Relación escuelascercanas-precio"
   ]
  },
  {
   "cell_type": "code",
   "execution_count": 54,
   "metadata": {},
   "outputs": [
    {
     "name": "stdout",
     "output_type": "stream",
     "text": [
      "\u001b[4mDistrito Federal\u001b[0m\n",
      "                  precioPromedio  #deMuestras\n",
      "escuelascercanas                             \n",
      "0.0                 3.521510e+06        30672\n",
      "1.0                 3.417376e+06        28118\n",
      "\n",
      "\n",
      "\u001b[4mEdo. de México\u001b[0m\n",
      "                  precioPromedio  #deMuestras\n",
      "escuelascercanas                             \n",
      "0.0                 2.841233e+06        18939\n",
      "1.0                 2.696654e+06        22668\n",
      "\n",
      "\n",
      "\u001b[4mJalisco\u001b[0m\n",
      "                  precioPromedio  #deMuestras\n",
      "escuelascercanas                             \n",
      "0.0                 2.304754e+06        11280\n",
      "1.0                 2.438989e+06         9958\n"
     ]
    },
    {
     "data": {
      "text/html": [
       "\n",
       "        <script>\n",
       "            function code_toggle_12122145974541340155() {\n",
       "                $('div.cell.code_cell.rendered.selected').find('div.input').toggle();\n",
       "            }\n",
       "\n",
       "            \n",
       "        </script>\n",
       "\n",
       "        <a href=\"javascript:code_toggle_12122145974541340155()\">Mostrar/ocultar código de celda</a>\n",
       "    "
      ],
      "text/plain": [
       "<IPython.core.display.HTML object>"
      ]
     },
     "execution_count": 54,
     "metadata": {},
     "output_type": "execute_result"
    }
   ],
   "source": [
    "DF = df_df.rename(columns={'precio':'precioPromedio'}).groupby('escuelascercanas')[['precioPromedio']].mean()\n",
    "DF['#deMuestras'] = df_df.groupby('escuelascercanas')[['precio']].size()\n",
    "EM = df_emex.rename(columns={'precio':'precioPromedio'}).groupby('escuelascercanas')[['precioPromedio']].mean()\n",
    "EM['#deMuestras'] = df_emex.groupby('escuelascercanas')[['precio']].size()\n",
    "JA = df_jal.rename(columns={'precio':'precioPromedio'}).groupby('escuelascercanas')[['precioPromedio']].mean()\n",
    "JA['#deMuestras'] = df_jal.groupby('escuelascercanas')[['precio']].size()\n",
    "print(\"\\033[4mDistrito Federal\\033[0m\")\n",
    "print(DF)\n",
    "print(\"\\n\")\n",
    "print(\"\\033[4mEdo. de México\\033[0m\")\n",
    "print(EM)\n",
    "print(\"\\n\")\n",
    "print(\"\\033[4mJalisco\\033[0m\")\n",
    "print(JA)\n",
    "\n",
    "oculta_celdas()"
   ]
  },
  {
   "cell_type": "markdown",
   "metadata": {},
   "source": [
    "Lo primero que podemos apreciar de estas tablas es que, a diferencia de los casos vistos previamente(gimnasio, piscina), ahora el volumen de datos que tenemos de ambas partes es bastante más parecido. Esto nos sirve más a la hora de hacer estimaciones. Igualmente justo en este caso no se aprecia un cambio de precio relacionado a esta variable ya que como vemos el precio promedio de aquellos inmuebles con escuelas cercanas es bastante similar a su contraparte para las tres provincias. "
   ]
  },
  {
   "cell_type": "markdown",
   "metadata": {},
   "source": [
    "* usosmultiples-precio"
   ]
  },
  {
   "cell_type": "code",
   "execution_count": 55,
   "metadata": {},
   "outputs": [
    {
     "name": "stdout",
     "output_type": "stream",
     "text": [
      "\u001b[4mDistrito Federal\u001b[0m\n",
      "               precioPromedio  #deMuestras\n",
      "usosmultiples                             \n",
      "0.0              3.396140e+06        54746\n",
      "1.0              4.494673e+06         4044\n",
      "\n",
      "\n",
      "\u001b[4mEdo. de México\u001b[0m\n",
      "               precioPromedio  #deMuestras\n",
      "usosmultiples                             \n",
      "0.0              2.632855e+06        38547\n",
      "1.0              4.395164e+06         3060\n",
      "\n",
      "\n",
      "\u001b[4mJalisco\u001b[0m\n",
      "               precioPromedio  #deMuestras\n",
      "usosmultiples                             \n",
      "0.0              2.279642e+06        19431\n",
      "1.0              3.314527e+06         1807\n",
      "\n",
      "\n",
      "\n",
      "Aumento promedio de precioPromedio:  1298575.6666666667\n"
     ]
    },
    {
     "data": {
      "text/html": [
       "\n",
       "        <script>\n",
       "            function code_toggle_15024371841049691142() {\n",
       "                $('div.cell.code_cell.rendered.selected').find('div.input').toggle();\n",
       "            }\n",
       "\n",
       "            \n",
       "        </script>\n",
       "\n",
       "        <a href=\"javascript:code_toggle_15024371841049691142()\">Mostrar/ocultar código de celda</a>\n",
       "    "
      ],
      "text/plain": [
       "<IPython.core.display.HTML object>"
      ]
     },
     "execution_count": 55,
     "metadata": {},
     "output_type": "execute_result"
    }
   ],
   "source": [
    "DF = df_df.rename(columns={'precio':'precioPromedio'}).groupby('usosmultiples')[['precioPromedio']].mean()\n",
    "DF['#deMuestras'] = df_df.groupby('usosmultiples')[['precio']].size()\n",
    "EM = df_emex.rename(columns={'precio':'precioPromedio'}).groupby('usosmultiples')[['precioPromedio']].mean()\n",
    "EM['#deMuestras'] = df_emex.groupby('usosmultiples')[['precio']].size()\n",
    "JA = df_jal.rename(columns={'precio':'precioPromedio'}).groupby('usosmultiples')[['precioPromedio']].mean()\n",
    "JA['#deMuestras'] = df_jal.groupby('usosmultiples')[['precio']].size()\n",
    "print(\"\\033[4mDistrito Federal\\033[0m\")\n",
    "print(DF)\n",
    "print(\"\\n\")\n",
    "print(\"\\033[4mEdo. de México\\033[0m\")\n",
    "print(EM)\n",
    "print(\"\\n\")\n",
    "print(\"\\033[4mJalisco\\033[0m\")\n",
    "print(JA)\n",
    "print(\"\\n\\n\")\n",
    "o = 3.314527e+06 - 2.279642e+06\n",
    "d = 4.395164e+06 - 2.632855e+06\n",
    "e = 4.494673e+06 - 3.396140e+06\n",
    "print(\"Aumento promedio de precioPromedio: \",(o + d + e)/3)\n",
    "oculta_celdas()"
   ]
  },
  {
   "cell_type": "markdown",
   "metadata": {},
   "source": [
    "Podemos observar que asi como las primeras variables(gimnasio, piscina) la presencia de un salón de usos multiples significa una suba considerable del precio del inmueble. En este caso también tenemos una distribución de la cantidad de muestras de cada caso muy variada, siendo la cantidad de inmuebles sin salón de usos multiples mucho mayor a la otra."
   ]
  },
  {
   "cell_type": "markdown",
   "metadata": {},
   "source": [
    "* Relación centroscomercialescercanos-precio"
   ]
  },
  {
   "cell_type": "code",
   "execution_count": 57,
   "metadata": {},
   "outputs": [
    {
     "name": "stdout",
     "output_type": "stream",
     "text": [
      "\u001b[4mDistrito Federal\u001b[0m\n",
      "                            Precio promedio  #deMuestras\n",
      "centroscomercialescercanos                              \n",
      "0.0                            3.481562e+06        32605\n",
      "1.0                            3.459432e+06        26185\n",
      "\n",
      "\n",
      "\u001b[4mEdo. de México\u001b[0m\n",
      "                            Precio promedio  #deMuestras\n",
      "centroscomercialescercanos                              \n",
      "0.0                            2.818313e+06        20364\n",
      "1.0                            2.708928e+06        21243\n",
      "\n",
      "\n",
      "\u001b[4mJalisco\u001b[0m\n",
      "                            Precio promedio  #deMuestras\n",
      "centroscomercialescercanos                              \n",
      "0.0                            2.238549e+06        11278\n",
      "1.0                            2.513928e+06         9960\n"
     ]
    },
    {
     "data": {
      "text/html": [
       "\n",
       "        <script>\n",
       "            function code_toggle_174464435977815346() {\n",
       "                $('div.cell.code_cell.rendered.selected').find('div.input').toggle();\n",
       "            }\n",
       "\n",
       "            \n",
       "        </script>\n",
       "\n",
       "        <a href=\"javascript:code_toggle_174464435977815346()\">Mostrar/ocultar código de celda</a>\n",
       "    "
      ],
      "text/plain": [
       "<IPython.core.display.HTML object>"
      ]
     },
     "execution_count": 57,
     "metadata": {},
     "output_type": "execute_result"
    }
   ],
   "source": [
    "DF = df_df.rename(columns={'precio':'Precio promedio'}).groupby('centroscomercialescercanos')[['Precio promedio']].mean()\n",
    "DF['#deMuestras'] = df_df.groupby('centroscomercialescercanos')[['precio']].size()\n",
    "EM = df_emex.rename(columns={'precio':'Precio promedio'}).groupby('centroscomercialescercanos')[['Precio promedio']].mean()\n",
    "EM['#deMuestras'] = df_emex.groupby('centroscomercialescercanos')[['precio']].size()\n",
    "JA = df_jal.rename(columns={'precio':'Precio promedio'}).groupby('centroscomercialescercanos')[['Precio promedio']].mean()\n",
    "JA['#deMuestras'] = df_jal.groupby('centroscomercialescercanos')[['precio']].size()\n",
    "print(\"\\033[4mDistrito Federal\\033[0m\")\n",
    "print(DF)\n",
    "print(\"\\n\")\n",
    "print(\"\\033[4mEdo. de México\\033[0m\")\n",
    "print(EM)\n",
    "print(\"\\n\")\n",
    "print(\"\\033[4mJalisco\\033[0m\")\n",
    "print(JA)\n",
    "\n",
    "oculta_celdas()"
   ]
  },
  {
   "cell_type": "markdown",
   "metadata": {},
   "source": [
    "Similar a lo que sucedía con las escuelas vemos que el hecho de que un inmueble tenga centros comerciales cercanos no representa un gran cambio en el precio del mismo. Podemos valorar también que la cantidad de muestras entre campos opuestos de la variable a analizar es bastante pareja, pero así como en el caso de las escuelas al no apreciarse una correlación con el precio no podemos aprovechar esta ventaja."
   ]
  },
  {
   "cell_type": "markdown",
   "metadata": {},
   "source": [
    "*Lo que podemos concluir de estos resultados es que  gimnasio, pileta o usosmultiples son factores más determinantes a la hora del aumento de precio que que un inmueble tenga escuelas o shoppings cerca. Teniendo los primeros un aumento de precio igual o mayor a 1e6 frente a un máximo de 0.3e6 por parte de las últimas dos características.* "
   ]
  },
  {
   "cell_type": "code",
   "execution_count": null,
   "metadata": {},
   "outputs": [],
   "source": [
    "#for key, item in C:\n",
    "#    print(C.get_group(key), \"\\n\\n\")\n",
    "#C.get_group(1).to_numpy()"
   ]
  },
  {
   "cell_type": "code",
   "execution_count": null,
   "metadata": {},
   "outputs": [],
   "source": [
    "def cml(prop, phi):\n",
    "    dfs = [df_df, df_emex, df_jal];\n",
    "    nombres = [ \"Distrito Federal\", \"Edo. de México\", \"Jalisco\"]\n",
    "    for i in range(0,3):\n",
    "        x = np.array([phi(dfs[i][prop].values)]).T\n",
    "        y = np.array([dfs[i]['precio'].values]).T\n",
    "        linear_regressor = metnum.LinearRegression()\n",
    "\n",
    "        linear_regressor.fit(x,y)\n",
    "        dfs[i]['prediction'] = linear_regressor.predict(x)\n",
    "        print(nombres[i], \": \",utils.RMSLE(dfs[i]['precio'].values, dfs[i]['prediction'].values))\n",
    "# cml('gimnasio', lambda x: (x+1)**2)\n",
    "# cml('piscina', lambda x: (x+1)**2)\n",
    "# cml('usosmultiples', lambda x: (x+1)**2)\n",
    "# cml('escuelascercanas', lambda x: (x+1)**2)\n",
    "cml('centroscomercialescercanos', lambda x: (x+1)**2)\n",
    "\n",
    "\n"
   ]
  },
  {
   "cell_type": "code",
   "execution_count": null,
   "metadata": {},
   "outputs": [],
   "source": [
    "#df_df = df[df['provincia']=='Distrito Federal'].dropna()\n",
    "#df_emex = df[df['provincia']=='Edo. de México'].dropna()\n",
    "#df_jal = df[df['provincia']=='Jalisco'].dropna()\n",
    "\n",
    "dfs = [df_df, df_emex, df_jal]\n",
    "result = pd.concat(dfs)\n",
    "data = result[['gimnasio','piscina','usosmultiples']].to_numpy()\n",
    "data = (data+1)**2\n",
    "b = result[['precio']].to_numpy().flatten()"
   ]
  },
  {
   "cell_type": "code",
   "execution_count": null,
   "metadata": {},
   "outputs": [],
   "source": []
  },
  {
   "cell_type": "code",
   "execution_count": null,
   "metadata": {},
   "outputs": [],
   "source": [
    "blockSize = int(data.shape[0] / 3)\n",
    "i = 2\n",
    "\n",
    "limite_1 = blockSize*i\n",
    "limite_2 = min(data.shape[0], blockSize*(i+1))\n",
    "print(\"Rangos train: 0-%d y %d-%d\"% (limite_1, limite_2, data.shape[0]))\n",
    "print(\"Rangos validation: %d-%d\"% (limite_1, limite_2))\n",
    "\n",
    "A_train, b_train = np.concatenate((data[0:limite_1], data[limite_2:])), np.concatenate((b[0:limite_1], b[limite_2:]))\n",
    "A_val, b_val = data[limite_1:limite_2], b[limite_1:limite_2]\n",
    "\n",
    "lr = metnum.LinearRegression()\n",
    "lr.fit(A_train, b_train)\n",
    "b_predict = lr.predict(A_val).flatten()\n",
    "\n",
    "print(\"Real\")\n",
    "print(b_val)\n",
    "print(\"Prediccion\")\n",
    "print(b_predict)\n",
    "#for i in range(len(b_predict)):\n",
    "#    if(b_predict[i]>0):\n",
    "#        print(b_predict[i])\n",
    "\n",
    "res = utils.RMSLE(b_predict, b_val)\n",
    "print(\"RMSE\")\n",
    "print(res)"
   ]
  },
  {
   "cell_type": "code",
   "execution_count": null,
   "metadata": {},
   "outputs": [],
   "source": []
  },
  {
   "cell_type": "markdown",
   "metadata": {},
   "source": [
    "### Viendo unas primeras aproximaciones"
   ]
  },
  {
   "cell_type": "markdown",
   "metadata": {},
   "source": [
    "Podriamos por ejemplo estimar la cantidad de baños según la antigüedad y el tamaño en metro cuadrados de inmueble?"
   ]
  },
  {
   "cell_type": "code",
   "execution_count": null,
   "metadata": {},
   "outputs": [],
   "source": [
    "sns.scatterplot(data=df_df, x='metroscubiertos', y='banos')\n",
    "df_df.groupby('banos')['antiguedad'].mean()\n",
    "df_df.groupby('banos')[['metroscubiertos']].mean()"
   ]
  },
  {
   "cell_type": "code",
   "execution_count": null,
   "metadata": {},
   "outputs": [],
   "source": [
    "data2 = result[['antiguedad','metroscubiertos']].to_numpy()\n",
    "b2 = result[['banos']].to_numpy().flatten()"
   ]
  },
  {
   "cell_type": "code",
   "execution_count": null,
   "metadata": {},
   "outputs": [],
   "source": [
    "blockSize = int(data2.shape[0] / 3)\n",
    "i = 2\n",
    "\n",
    "limite_1 = blockSize*i\n",
    "limite_2 = min(data2.shape[0], blockSize*(i+1))\n",
    "print(\"Rangos train: 0-%d y %d-%d\"% (limite_1, limite_2, data2.shape[0]))\n",
    "print(\"Rangos validation: %d-%d\"% (limite_1, limite_2))\n",
    "\n",
    "A_train, b_train = np.concatenate((data2[0:limite_1], data2[limite_2:])), np.concatenate((b2[0:limite_1], b2[limite_2:]))\n",
    "A_val, b_val = data2[limite_1:limite_2], b2[limite_1:limite_2]\n",
    "\n",
    "lr = metnum.LinearRegression()\n",
    "lr.fit(A_train, b_train)\n",
    "b_predict = lr.predict(A_val).flatten()\n",
    "\n",
    "print(\"Real\")\n",
    "print(b_val)\n",
    "print(\"Prediccion\")\n",
    "print(b_predict)\n",
    "\n",
    "res = utils.RMSLE(b_predict, b_val)\n",
    "print(\"RMSE\")\n",
    "print(res)"
   ]
  },
  {
   "cell_type": "markdown",
   "metadata": {},
   "source": [
    "# Basurero de experimentos"
   ]
  },
  {
   "cell_type": "code",
   "execution_count": 14,
   "metadata": {},
   "outputs": [
    {
     "name": "stdout",
     "output_type": "stream",
     "text": [
      "\u001b[4mNueva León\u001b[0m\n",
      "         Precio promedio\n",
      "piscina                 \n",
      "0.0         2.616444e+06\n",
      "1.0         4.512094e+06\n",
      "\n",
      "\n",
      "\u001b[4mYucatán\u001b[0m\n",
      "         Precio promedio\n",
      "piscina                 \n",
      "0.0         1.837437e+06\n",
      "1.0         2.656139e+06\n",
      "\n",
      "\n",
      "\u001b[4mChihuahua\u001b[0m\n",
      "         Precio promedio\n",
      "piscina                 \n",
      "0.0         1.723061e+06\n",
      "1.0         2.782706e+06\n"
     ]
    },
    {
     "data": {
      "text/html": [
       "\n",
       "        <script>\n",
       "            function code_toggle_5302458811423398955() {\n",
       "                $('div.cell.code_cell.rendered.selected').find('div.input').toggle();\n",
       "            }\n",
       "\n",
       "            \n",
       "        </script>\n",
       "\n",
       "        <a href=\"javascript:code_toggle_5302458811423398955()\">Mostrar/ocultar código de celda</a>\n",
       "    "
      ],
      "text/plain": [
       "<IPython.core.display.HTML object>"
      ]
     },
     "execution_count": 14,
     "metadata": {},
     "output_type": "execute_result"
    }
   ],
   "source": [
    "NU = df_nuli.rename(columns={'precio':'Precio promedio'}).groupby('piscina')[['Precio promedio']].mean()\n",
    "YU = df_yuca.rename(columns={'precio':'Precio promedio'}).groupby('piscina')[['Precio promedio']].mean()\n",
    "CHI = df_chi.rename(columns={'precio':'Precio promedio'}).groupby('piscina')[['Precio promedio']].mean()\n",
    "print(\"\\033[4mNueva León\\033[0m\")\n",
    "print(NU)\n",
    "print(\"\\n\")\n",
    "print(\"\\033[4mYucatán\\033[0m\")\n",
    "print(YU)\n",
    "print(\"\\n\")\n",
    "print(\"\\033[4mChihuahua\\033[0m\")\n",
    "print(CHI)\n",
    "\n",
    "oculta_celdas()"
   ]
  },
  {
   "cell_type": "code",
   "execution_count": 15,
   "metadata": {},
   "outputs": [
    {
     "name": "stdout",
     "output_type": "stream",
     "text": [
      "\u001b[4mSinaloa\u001b[0m\n",
      "         Precio promedio\n",
      "piscina                 \n",
      "0.0         1.582834e+06\n",
      "1.0         2.280134e+06\n",
      "\n",
      "\n",
      "\u001b[4mColima\u001b[0m\n",
      "         Precio promedio\n",
      "piscina                 \n",
      "0.0         1.425164e+06\n",
      "1.0         2.588923e+06\n"
     ]
    },
    {
     "data": {
      "text/html": [
       "\n",
       "        <script>\n",
       "            function code_toggle_9945822773144307723() {\n",
       "                $('div.cell.code_cell.rendered.selected').find('div.input').toggle();\n",
       "            }\n",
       "\n",
       "            \n",
       "        </script>\n",
       "\n",
       "        <a href=\"javascript:code_toggle_9945822773144307723()\">Mostrar/ocultar código de celda</a>\n",
       "    "
      ],
      "text/plain": [
       "<IPython.core.display.HTML object>"
      ]
     },
     "execution_count": 15,
     "metadata": {},
     "output_type": "execute_result"
    }
   ],
   "source": [
    "SIN = df_sin.rename(columns={'precio':'Precio promedio'}).groupby('piscina')[['Precio promedio']].mean()\n",
    "COL = df_col.rename(columns={'precio':'Precio promedio'}).groupby('piscina')[['Precio promedio']].mean()\n",
    "print(\"\\033[4mSinaloa\\033[0m\")\n",
    "print(SIN)\n",
    "print(\"\\n\")\n",
    "print(\"\\033[4mColima\\033[0m\")\n",
    "print(COL)\n",
    "\n",
    "oculta_celdas()"
   ]
  },
  {
   "cell_type": "code",
   "execution_count": null,
   "metadata": {},
   "outputs": [],
   "source": []
  }
 ],
 "metadata": {
  "kernelspec": {
   "display_name": "Python 3",
   "language": "python",
   "name": "python3"
  },
  "language_info": {
   "codemirror_mode": {
    "name": "ipython",
    "version": 3
   },
   "file_extension": ".py",
   "mimetype": "text/x-python",
   "name": "python",
   "nbconvert_exporter": "python",
   "pygments_lexer": "ipython3",
   "version": "3.6.8"
  }
 },
 "nbformat": 4,
 "nbformat_minor": 4
}
