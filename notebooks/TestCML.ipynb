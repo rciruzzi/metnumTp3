{
 "cells": [
  {
   "cell_type": "markdown",
   "metadata": {},
   "source": [
    "Primer test muy bobo - usamos la matriz $A = I$ y $b = [1,2]$"
   ]
  },
  {
   "cell_type": "code",
   "execution_count": 5,
   "metadata": {},
   "outputs": [
    {
     "data": {
      "text/plain": [
       "array([[3.]])"
      ]
     },
     "execution_count": 5,
     "metadata": {},
     "output_type": "execute_result"
    }
   ],
   "source": [
    "import numpy as np\n",
    "import metnum\n",
    "\n",
    "A = [[1,0],[0,1]]\n",
    "b = [1,2]\n",
    "lr = metnum.LinearRegression()\n",
    "lr.fit(A,b)\n",
    "lr.predict([[1,1]])"
   ]
  },
  {
   "cell_type": "markdown",
   "metadata": {},
   "source": [
    "Un test un poco más sustancioso"
   ]
  },
  {
   "cell_type": "code",
   "execution_count": 6,
   "metadata": {},
   "outputs": [
    {
     "name": "stdout",
     "output_type": "stream",
     "text": [
      "paso\n"
     ]
    }
   ],
   "source": [
    "A = [[1 ,0], \n",
    "     [-1,1], \n",
    "     [0 ,1]]\n",
    "\n",
    "lr = metnum.LinearRegression()\n",
    "lr.fit(A,[2,1,0])\n",
    "# Obtenemos la respuesta de cml sin hacer ninguna prediccion\n",
    "assert( np.allclose([1,1], lr.predict([[1,0],[0,1]])) )\n",
    "print(\"paso\")\n"
   ]
  },
  {
   "cell_type": "markdown",
   "metadata": {},
   "source": [
    "Uno contra np"
   ]
  },
  {
   "cell_type": "code",
   "execution_count": 18,
   "metadata": {},
   "outputs": [
    {
     "name": "stdout",
     "output_type": "stream",
     "text": [
      "paso\n"
     ]
    }
   ],
   "source": [
    "A = [[1,2], [3,4], [6,7],[8,9], [11,12], [13,14]]\n",
    "b = [1,1,1,1,1,1]\n",
    "lr = metnum.LinearRegression()\n",
    "lr.fit(A,b)\n",
    "predict = lr.predict(np.diag([1,1])).reshape([2,])\n",
    "predict_np = np.linalg.lstsq(A,b, rcond=-1)[0]\n",
    "# Obtenemos la respuesta de cml sin hacer ninguna prediccion\n",
    "assert( np.allclose( predict_np , predict ) ) \n",
    "print(\"paso\")"
   ]
  }
 ],
 "metadata": {
  "kernelspec": {
   "display_name": "Python 3",
   "language": "python",
   "name": "python3"
  },
  "language_info": {
   "codemirror_mode": {
    "name": "ipython",
    "version": 3
   },
   "file_extension": ".py",
   "mimetype": "text/x-python",
   "name": "python",
   "nbconvert_exporter": "python",
   "pygments_lexer": "ipython3",
   "version": "3.6.10"
  }
 },
 "nbformat": 4,
 "nbformat_minor": 4
}
