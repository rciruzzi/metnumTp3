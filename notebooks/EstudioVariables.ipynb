{
 "cells": [
  {
   "cell_type": "code",
   "execution_count": 1,
   "metadata": {},
   "outputs": [
    {
     "name": "stdout",
     "output_type": "stream",
     "text": [
      "<class 'pandas.core.frame.DataFrame'>\n",
      "RangeIndex: 240000 entries, 0 to 239999\n",
      "Data columns (total 23 columns):\n",
      " #   Column                      Non-Null Count   Dtype  \n",
      "---  ------                      --------------   -----  \n",
      " 0   id                          240000 non-null  int64  \n",
      " 1   titulo                      234613 non-null  object \n",
      " 2   descripcion                 238381 non-null  object \n",
      " 3   tipodepropiedad             239954 non-null  object \n",
      " 4   direccion                   186928 non-null  object \n",
      " 5   ciudad                      239628 non-null  object \n",
      " 6   provincia                   239845 non-null  object \n",
      " 7   antiguedad                  196445 non-null  float64\n",
      " 8   habitaciones                217529 non-null  float64\n",
      " 9   garages                     202235 non-null  float64\n",
      " 10  banos                       213779 non-null  float64\n",
      " 11  metroscubiertos             222600 non-null  float64\n",
      " 12  metrostotales               188533 non-null  float64\n",
      " 13  idzona                      211379 non-null  float64\n",
      " 14  lat                         116512 non-null  float64\n",
      " 15  lng                         116512 non-null  float64\n",
      " 16  fecha                       240000 non-null  object \n",
      " 17  gimnasio                    240000 non-null  float64\n",
      " 18  usosmultiples               240000 non-null  float64\n",
      " 19  piscina                     240000 non-null  float64\n",
      " 20  escuelascercanas            240000 non-null  float64\n",
      " 21  centroscomercialescercanos  240000 non-null  float64\n",
      " 22  precio                      240000 non-null  float64\n",
      "dtypes: float64(15), int64(1), object(7)\n",
      "memory usage: 42.1+ MB\n"
     ]
    }
   ],
   "source": [
    "import pandas as pd\n",
    "import metnum\n",
    "import numpy as np\n",
    "import utils\n",
    "import seaborn as sns\n",
    "import matplotlib.pyplot as plt\n",
    "import re\n",
    "from bs4 import BeautifulSoup\n",
    "\n",
    "df_completo = pd.read_csv('../data/train.csv')\n",
    "df_completo.info()"
   ]
  },
  {
   "cell_type": "code",
   "execution_count": null,
   "metadata": {},
   "outputs": [],
   "source": [
    "df_completo['ciudad'].value_counts()"
   ]
  },
  {
   "cell_type": "markdown",
   "metadata": {},
   "source": [
    "Elijo las ciudades con mas datos"
   ]
  },
  {
   "cell_type": "code",
   "execution_count": null,
   "metadata": {},
   "outputs": [],
   "source": [
    "df_quer = df_completo[df_completo['ciudad']=='Querétaro']\n",
    "df_BJ = df_completo[df_completo['ciudad']=='Benito Juárez']\n",
    "df_zap = df_completo[df_completo['ciudad']=='Zapopan']\n",
    "df_SLP = df_completo[df_completo['ciudad']=='San Luis Potosí']\n",
    "\n",
    "df_BJ['precio'].mean() \n"
   ]
  },
  {
   "cell_type": "markdown",
   "metadata": {},
   "source": [
    "Elijo la ciudad con mayor datos y veo la relacion con precio de algunas propiedades"
   ]
  },
  {
   "cell_type": "code",
   "execution_count": null,
   "metadata": {},
   "outputs": [],
   "source": [
    "props = ['antiguedad', 'habitaciones', 'garages', 'banos', 'metrostotales', 'metroscubiertos']\n",
    "pred = 'precio'"
   ]
  },
  {
   "cell_type": "code",
   "execution_count": null,
   "metadata": {},
   "outputs": [],
   "source": [
    "utils.graficarRelacionEntrePropiedades(props, df_quer, pred, sigma=3)"
   ]
  },
  {
   "cell_type": "code",
   "execution_count": 22,
   "metadata": {},
   "outputs": [],
   "source": [
    "propGroup = 'ciudad'\n",
    "groups = [\n",
    "    'Querétaro',\n",
    "    'Benito Juárez',\n",
    "    'Zapopan',\n",
    "    'San Luis Potosí'\n",
    "]\n",
    "\n",
    "props = [\n",
    "    'metroscubiertos', \n",
    "#     'antiguedad', \n",
    "#     'piscina', \n",
    "#     'centroscomercialescercanos', \n",
    "#     'usosmultiples', \n",
    "#     'gimnasio', \n",
    "#     'escuelascercanas'\n",
    "]\n",
    "phis = [ \n",
    "        lambda x: x, #metros2\n",
    "#         lambda x: (1/(x+1)), #antiguo\n",
    "#         lambda x: (x+1)**2, #pileta\n",
    "#         lambda x: (x+1), #shopping\n",
    "#         lambda x: (x+1)**2, #SUM\n",
    "#         lambda x: (x+1)**2, #gimnasio\n",
    "#         lambda x: (x+1) #escuelas\n",
    "]"
   ]
  },
  {
   "cell_type": "markdown",
   "metadata": {},
   "source": [
    "Veo las precisiones en las principales ciudades"
   ]
  },
  {
   "cell_type": "code",
   "execution_count": 23,
   "metadata": {},
   "outputs": [
    {
     "name": "stdout",
     "output_type": "stream",
     "text": [
      "En Querétaro erramos por 0.351\n",
      "En Benito Juárez erramos por 0.436\n",
      "En Zapopan erramos por 0.45\n",
      "En San Luis Potosí erramos por 0.374\n"
     ]
    }
   ],
   "source": [
    "for i in range(len(groups)):\n",
    "    df_group = df_completo[df_completo[propGroup]==groups[i]]\n",
    "    val = utils.predictWithKFold(df_group, phis, props)\n",
    "    print(f\"En {groups[i]} erramos por {np.round(val, decimals = 3)}\")"
   ]
  },
  {
   "cell_type": "markdown",
   "metadata": {},
   "source": [
    "Para la ciudad Querétaro voy a ver cuanto cambia la precision al aumentar las variables que uso"
   ]
  },
  {
   "cell_type": "code",
   "execution_count": null,
   "metadata": {},
   "outputs": [],
   "source": [
    "for i in range(len(props)):\n",
    "    print(props[:i+1])\n",
    "    val = utils.predictWithKFold(df_quer, phis, props[:i+1])\n",
    "    print(f\"Precision para {i} variables es de {val}\")"
   ]
  },
  {
   "cell_type": "markdown",
   "metadata": {},
   "source": [
    "Quiero ver si solo importa la cantidad de variables o si cada una aporta distinto(seguramente que cada una aporta distinto)"
   ]
  },
  {
   "cell_type": "code",
   "execution_count": null,
   "metadata": {},
   "outputs": [],
   "source": [
    "for i in range(len(props)):\n",
    "    randomIndex = np.random.choice(range(len(props)), i+1, replace=False)\n",
    "    propsR = list(np.array(props)[randomIndex])\n",
    "    print(propsR)\n",
    "    phisR = list(np.array(phis)[randomIndex])\n",
    "    val = utils.predictWithKFold(df_quer, phisR, propsR)\n",
    "    print(f\"Precision para {i} variables aleatorias es de {val}\")"
   ]
  },
  {
   "cell_type": "markdown",
   "metadata": {},
   "source": []
  },
  {
   "cell_type": "markdown",
   "metadata": {},
   "source": [
    "# Incluyendo palabrasCaras"
   ]
  },
  {
   "cell_type": "code",
   "execution_count": 20,
   "metadata": {},
   "outputs": [
    {
     "data": {
      "text/plain": [
       "68"
      ]
     },
     "execution_count": 20,
     "metadata": {},
     "output_type": "execute_result"
    }
   ],
   "source": [
    "\n",
    "palabrasCaras = [('completo',6), ('servicio',2), ('jardín', 3), ('piscina', 9), ('granito', 1), ('acabados',2), ('cochera',3), ('amplia', 6), ('alberca', 5), ('garage', 4), ('excelente', 10), ('porcelanato', 3), ('amplio', 6), ('lujo', 10), ('equipada', 4), ('garaje', 4), ('residencial', 1), ('mármol', 3), ('cristal', 2), ('calentador', 2), ('balcón', 5), ('iluminación', 6), ('riego', 10), ('hermosa', 10), ('hermoso', 10), ('vigilancia', 9), ('seguridad', 3), ('amplios', 3), ('tv', 1), ('palapa', 2), ('gimnasio', 7), ('completos', 3), ('jacuzzi', 10), ('acondicionado', 2), ('acondicionados', 3), ('minisplit', 8)]\n",
    "palabrasCaras2 = [('infonavit', 0.001),('completo',6), ('piscina', 9), ('cochera',5), ('amplia', 6), ('alberca', 2), ('garage', 4), ('excelente', 10), ('amplio', 6), ('lujo', 10), ('garaje', 4), ('balcón', 5), ('iluminación', 6), ('hermosa', 10), ('hermoso', 10), ('vigilancia', 9), ('seguridad', 3), ('amplios', 5), ('gimnasio', 7), ('jacuzzi', 10), ('minisplit', 8)]\n",
    "\n",
    "\n",
    "palabrasCarasConValores = [('ventanas', 2),('golf', 10),('vitropiso', 3),('grandes', 5),('panorámica', 6),('moderno', 4),('amenidades', 9),('solares', 7),('elevador', 4),('antecomedor', 3),('transporte', 8),('pequeña', 0.0001),('inmejorable', 6),('hospitales', 5),('infonavit', 0.0001),('completo',6), ('servicio',2), ('jardín', 3), ('piscina', 9), ('granito', 1), ('acabados',2), ('cochera',3), ('amplia', 6), ('alberca', 5), ('garage', 4), ('excelente', 10), ('excelentes', 10), ('porcelanato', 3), ('amplio', 6), ('lujo', 10), ('equipada', 4), ('garaje', 4), ('residencial', 1), ('mármol', 3), ('cristal', 2), ('calentador', 2), ('balcón', 5), ('iluminación', 6), ('riego', 10), ('hermosa', 10), ('hermoso', 10), ('vigilancia', 9), ('seguridad', 3), ('amplios', 3), ('tv', 1), ('palapa', 2), ('gimnasio', 7), ('completos', 3), ('jacuzzi', 10), ('acondicionado', 2), ('acondicionados', 3), ('minisplit', 8), ('preciosa', 8), ('nuevo', 5), ('grande', 7), ('techado', 3), ('techada', 3), ('gravamen', 0.0001), ('avenida', 5), ('crédito', 0.0001), ('remodelada', 8), ('ideal', 7), ('eventos', 4), ('parque', 6), ('bonita', 10), ('bonito', 10), ('precio', 0.0001), ('integral', 4)]\n",
    "\n",
    "len(palabrasCarasConValores)"
   ]
  },
  {
   "cell_type": "code",
   "execution_count": 24,
   "metadata": {},
   "outputs": [
    {
     "name": "stdout",
     "output_type": "stream",
     "text": [
      "Estimacion para Querétaro\n",
      "0.3503555328684418\n",
      "803278.9679159279\n",
      "Estimacion para Benito Juárez\n",
      "0.4133607056537126\n",
      "1429539.7709557507\n",
      "Estimacion para Zapopan\n",
      "0.45455638174795227\n",
      "1269302.0824983718\n",
      "Estimacion para San Luis Potosí\n",
      "0.37431170008983594\n",
      "704666.560885717\n"
     ]
    }
   ],
   "source": [
    "props = [\n",
    "    'metroscubiertos', \n",
    "#     'antiguedad', \n",
    "#     'piscina', \n",
    "#     'centroscomercialescercanos', \n",
    "#     'usosmultiples', \n",
    "#     'gimnasio', \n",
    "#     'escuelascercanas',\n",
    "    'valor'\n",
    "]\n",
    "phis = [ \n",
    "        lambda x: x, #metros2\n",
    "#         lambda x: (1/(x+1)), #antiguo\n",
    "#         lambda x: (x+1)**2, #pileta\n",
    "#         lambda x: (x+1), #shopping\n",
    "#         lambda x: (x+1)**2, #SUM\n",
    "#         lambda x: (x+1)**2, #gimnasio\n",
    "#         lambda x: (x+1), #escuelas\n",
    "        lambda x: (x+1) #valor\n",
    "]\n",
    "\n",
    "\n",
    "def getValor(desc, palabra):\n",
    "    regexPattern = re.compile(palabra)\n",
    "    soup = BeautifulSoup(desc)\n",
    "    desc = soup.get_text()\n",
    "    listOfmatches = regexPattern.findall(desc)\n",
    "    return len(listOfmatches)\n",
    "# A['valor'] = A['descripcion'].apply(getValor)\n",
    "\n",
    "\n",
    "for group in groups:\n",
    "    A = df_completo[df_completo['ciudad'] == group]\n",
    "    A = A.dropna(subset=['descripcion'])\n",
    "    A['valor'] = 0\n",
    "\n",
    "    for (palabra, mult) in palabrasCarasConValores:\n",
    "        A['valor'] += A.apply(lambda x : mult * getValor(x['descripcion'], palabra), axis=1)\n",
    "    \n",
    "    print(f'Estimacion para {group}')\n",
    "    print(utils.predictWithKFold(A, phis, props, validation=utils.RMSLE, k=5))\n",
    "    print(utils.predictWithKFold(A, phis, props, validation=utils.RMSE, k=5))"
   ]
  }
 ],
 "metadata": {
  "kernelspec": {
   "display_name": "Python 3",
   "language": "python",
   "name": "python3"
  },
  "language_info": {
   "codemirror_mode": {
    "name": "ipython",
    "version": 3
   },
   "file_extension": ".py",
   "mimetype": "text/x-python",
   "name": "python",
   "nbconvert_exporter": "python",
   "pygments_lexer": "ipython3",
   "version": "3.6.10"
  }
 },
 "nbformat": 4,
 "nbformat_minor": 4
}
