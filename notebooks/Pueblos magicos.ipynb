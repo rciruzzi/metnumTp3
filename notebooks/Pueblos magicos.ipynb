{
 "cells": [
  {
   "cell_type": "code",
   "execution_count": 119,
   "metadata": {},
   "outputs": [
    {
     "data": {
      "text/plain": [
       "Casa                             141717\n",
       "Apartamento                       57341\n",
       "Casa en condominio                19297\n",
       "Terreno                            9945\n",
       "Local Comercial                    3055\n",
       "Oficina comercial                  1741\n",
       "Bodega comercial                   1406\n",
       "Edificio                           1396\n",
       "Terreno comercial                  1326\n",
       "Casa uso de suelo                   708\n",
       "Quinta Vacacional                   395\n",
       "Duplex                              343\n",
       "Villa                               340\n",
       "Inmuebles productivos urbanos       200\n",
       "Rancho                              170\n",
       "Local en centro comercial           165\n",
       "Departamento Compartido             141\n",
       "Otros                               134\n",
       "Nave industrial                      76\n",
       "Terreno industrial                   31\n",
       "Huerta                               20\n",
       "Lote                                  5\n",
       "Garage                                1\n",
       "Hospedaje                             1\n",
       "Name: tipodepropiedad, dtype: int64"
      ]
     },
     "execution_count": 119,
     "metadata": {},
     "output_type": "execute_result"
    }
   ],
   "source": [
    "import pandas as pd\n",
    "import metnum\n",
    "import numpy as np\n",
    "import utils\n",
    "import seaborn as sns\n",
    "import matplotlib.pyplot as plt\n",
    "\n",
    "df_completo = pd.read_csv('../data/train.csv')"
   ]
  },
  {
   "cell_type": "code",
   "execution_count": 96,
   "metadata": {},
   "outputs": [
    {
     "data": {
      "text/plain": [
       "2308845.8113515116"
      ]
     },
     "execution_count": 96,
     "metadata": {},
     "output_type": "execute_result"
    }
   ],
   "source": [
    "pueblosMagicos = ['Aculco', 'Ajijic', 'Álamos', 'Amealco de Bonfil', 'Aquismón', 'Arteaga', 'Atlixco', 'Bacalar', 'Batopilas', 'Bernal', 'Bustamante', 'Cadereyta de Montes', 'Calvillo', 'Candela', 'Capulálpam de Méndez', 'Casas Grandes', 'Chiapa de Corzo', 'Chignahuapan', 'Cholula', 'Coatepec', 'Comala', 'Comitán', 'Comonfort', 'Compostela de Indias', 'Cosalá', 'Coscomatepec', 'Creel', 'Cuatro Ciénegas', 'Cuetzalan del Progreso', 'Cuitzeo del Porvenir', 'Dolores Hidalgo', 'El Oro', 'El Rosario', 'El Fuerte', 'Guadalupe', 'Guerrero', 'Huamantla', 'Huasca de Ocampo', 'Huauchinango', 'Huautla de Jiménez', 'Huichapan', 'Isla Aguada', 'Isla Mujeres', 'Ixtapan de la Sal', 'Izamal', 'Jala', 'Jalpa de Cánovas', 'Jalpan de Serra', 'Jerez de García Salinas', 'Jiquilpan de Juárez', 'Lagos de Moreno', 'Linares', 'Loreto', 'Magdalena de Kino', 'Malinalco', 'Maní', 'Mapimí', 'Mascota', 'Mazamitla', 'Mazunte', 'Melchor Múzquiz', 'Metepec', 'Mexcaltitán', 'Mier', 'Mineral de Angangueo', 'Mineral de Pozos', 'Mineral del Chico', 'Mocorito', 'Nombre de Dios', 'Nochistlán de Mejía', 'Orizaba', 'Pahuatlán', 'Palenque', 'Palizada', 'Papantla', 'Paracho de Verduzco', 'Parras de la Fuente', 'Pátzcuaro', 'Pinos', 'Real de Asientos', 'Real de Catorce', 'Real de Monte', 'Salvatierra', 'San Cristóbal de las Casas', 'San Joaquín', 'San José de Gracia', 'San Juan Teotihuacán y San Martín de las Pirámides', 'San Pablo Villa de Mitla', 'San Pedro Tlaquepaque', 'San Pedro y San Pablo Teposcolula', 'San Sebastián del Oeste', 'Santa Catarina Juquila', 'Santa Clara del Cobre', 'Santa María del Río', 'Santiago', 'Sayulita', 'Sisal', 'Sombrerete', 'Tacámbaro', 'Talpa de Allende', 'Tapalpa', 'Tapijulapa', 'Taxco de Alarcón', 'Tecate', 'Tecozautla', 'Tepotzotlán', 'Tepoztlán', 'Tequila', 'Tequisquiapan', 'Tetela de Ocampo', 'Teúl de González Ortega', 'Tlatlauquitepec', 'Tlayacapan', 'Tlalpujahua de Rayón', 'Tlaxco', 'Todos Santos', 'Tonatico', 'Tula', 'Tulum', 'Tzintzuntzan', 'Valladolid', 'Valle de Bravo', 'Viesca', 'Villa del Carbón', 'Xico', 'Xicotepec', 'Xilitla', 'Yuriria', 'Zacatlán de las Manzanas', 'Zempoala', 'Zimapán', 'Zozocolco de Hidalgo']\n",
    "df_magicos = df_completo[df_completo['ciudad'].isin(pueblosMagicos)]\n",
    "df_magicos"
   ]
  },
  {
   "cell_type": "code",
   "execution_count": 127,
   "metadata": {},
   "outputs": [
    {
     "name": "stdout",
     "output_type": "stream",
     "text": [
      "0\n"
     ]
    },
    {
     "data": {
      "text/plain": [
       "756639.7077486888"
      ]
     },
     "execution_count": 127,
     "metadata": {},
     "output_type": "execute_result"
    }
   ],
   "source": [
    "props = [\n",
    "    'metroscubiertos',\n",
    "    'metrostotales',\n",
    "    'antiguedad',\n",
    "    'piscina',\n",
    "    'garages',\n",
    "    'centroscomercialescercanos',\n",
    "    'habitaciones',\n",
    "]\n",
    "phis = [\n",
    "    lambda x: x, # m cubiertos\n",
    "    lambda x: x, # m totales\n",
    "    lambda x: 1/(x+1),  #antiguedad\n",
    "    lambda x: (x+1)**3, #piscina\n",
    "    lambda x: (x+1)**5, #garages\n",
    "    lambda x: (x+1), #centroscomerciales\n",
    "    lambda x: x, #habitaciones\n",
    "]\n",
    "utils.predictWithKFold(df_magicos, phis, props, validation = utils.RMSE, k=3)\n"
   ]
  },
  {
   "cell_type": "code",
   "execution_count": 122,
   "metadata": {},
   "outputs": [
    {
     "data": {
      "text/plain": [
       "0.323900478377717"
      ]
     },
     "execution_count": 122,
     "metadata": {},
     "output_type": "execute_result"
    }
   ],
   "source": [
    "747836 / 2308845 "
   ]
  },
  {
   "cell_type": "code",
   "execution_count": 138,
   "metadata": {},
   "outputs": [
    {
     "name": "stdout",
     "output_type": "stream",
     "text": [
      "0\n"
     ]
    },
    {
     "data": {
      "text/plain": [
       "0.40246484485895806"
      ]
     },
     "execution_count": 138,
     "metadata": {},
     "output_type": "execute_result"
    }
   ],
   "source": [
    "df_3hab = df_magicos[df_magicos['habitaciones'] == 3]\n",
    "\n",
    "props = [\n",
    "    'metroscubiertos',\n",
    "    'metrostotales',\n",
    "    'antiguedad',\n",
    "#     'piscina',\n",
    "    'garages',\n",
    "#     'centroscomercialescercanos',\n",
    "#     'habitaciones',\n",
    "]\n",
    "phis = [\n",
    "    lambda x: x, # m cubiertos\n",
    "    lambda x: x, # m totales\n",
    "    lambda x: (x+1),  #antiguedad\n",
    "#     lambda x: (x+1)**3, #piscina\n",
    "    lambda x: (x+1)**5, #garages\n",
    "#     lambda x: (x+1), #centroscomerciales\n",
    "#     lambda x: x, #habitaciones\n",
    "]\n",
    "utils.predictWithKFold(df_magicos, phis, props, validation = utils.RMSLE, k=3)\n"
   ]
  }
 ],
 "metadata": {
  "kernelspec": {
   "display_name": "Python 3",
   "language": "python",
   "name": "python3"
  },
  "language_info": {
   "codemirror_mode": {
    "name": "ipython",
    "version": 3
   },
   "file_extension": ".py",
   "mimetype": "text/x-python",
   "name": "python",
   "nbconvert_exporter": "python",
   "pygments_lexer": "ipython3",
   "version": "3.6.10"
  }
 },
 "nbformat": 4,
 "nbformat_minor": 4
}
